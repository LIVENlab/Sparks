{
 "cells": [
  {
   "cell_type": "code",
   "execution_count": 1,
   "id": "792fddc7",
   "metadata": {},
   "outputs": [],
   "source": [
    "import pandas as pd\n",
    "import os\n",
    "\n",
    "filename = \"/home/lex/Downloads/ETP2017_scenario_summary.xlsx\"\n",
    "dfs = pd.read_excel(filename, sheet_name=None)"
   ]
  },
  {
   "cell_type": "code",
   "execution_count": 2,
   "id": "25a7d770",
   "metadata": {},
   "outputs": [],
   "source": [
    "dfs.pop(\"Information\", None)\n",
    "dfs.pop(\"Graph\", None)\n",
    "scenarios = {}"
   ]
  },
  {
   "cell_type": "code",
   "execution_count": 3,
   "id": "d282fffa",
   "metadata": {},
   "outputs": [],
   "source": [
    "def split_by_val(df, val_dict, axis=1):\n",
    "    slc = lambda df, idx: df.loc[:, idx] if axis == 1 else df.iloc[idx]\n",
    "    res = []\n",
    "    cr_idx = []\n",
    "    for i, val in val_dict.items():\n",
    "        if val:\n",
    "            cr_idx.append(i)\n",
    "        elif cr_idx:\n",
    "            res.append(slc(df, cr_idx))\n",
    "            cr_idx = []\n",
    "    if cr_idx:\n",
    "        res.append(slc(df, cr_idx))\n",
    "    return res"
   ]
  },
  {
   "cell_type": "code",
   "execution_count": 4,
   "id": "23158010",
   "metadata": {},
   "outputs": [],
   "source": [
    "for country, df in dfs.items():\n",
    "    scen_dfs = split_by_val(df, df.notna().any())\n",
    "\n",
    "    for d in scen_dfs:\n",
    "        name = next(n.split(\"-\") for n in d.columns if \"Unnamed\" not in n)\n",
    "        name = name[-1].strip()\n",
    "        scens = split_by_val(d, ~df.isna().all(axis=\"columns\"), axis=0)\n",
    "        res = {}\n",
    "        for i in scens[1:]:\n",
    "            i_name = i.iat[0, 0]\n",
    "            i = i.iloc[1:]\n",
    "            i = i.set_index(i.columns[1])\n",
    "            i = i.drop(columns=i.columns[0])\n",
    "            i = i.drop(index=[\"Other\", \"Total\"], errors=\"ignore\")\n",
    "            i.columns = scens[0].iloc[0].iloc[2:]\n",
    "            i = i.rename_axis(None)\n",
    "            scenarios[(name, i_name, country)] = i.T"
   ]
  },
  {
   "cell_type": "code",
   "execution_count": 5,
   "id": "5029d69c",
   "metadata": {},
   "outputs": [],
   "source": [
    "scen_names = set(n for n, _, _ in scenarios)\n",
    "sectors = set(s for _, s, _ in scenarios)\n",
    "countries = set(c for _, _, c in scenarios)\n",
    "for scen in scen_names:\n",
    "    for sec in sectors:\n",
    "        directory = \"data/\" + scen + \"/\"\n",
    "        os.makedirs(directory, exist_ok=True)\n",
    "        fpath = os.path.abspath(directory + sec + \".xlsx\")\n",
    "        with pd.ExcelWriter(fpath) as writer:\n",
    "            for country, df in [\n",
    "                (key[2], d)\n",
    "                for key, d in scenarios.items()\n",
    "                if key[0] == scen and key[1] == sec\n",
    "            ]:\n",
    "                df.to_excel(writer, sheet_name=country)"
   ]
  },
  {
   "cell_type": "code",
   "execution_count": 6,
   "id": "b9af08d2",
   "metadata": {},
   "outputs": [
    {
     "ename": "FileNotFoundError",
     "evalue": "[Errno 2] No such file or directory: 'data/5907amb2z_SI_lci-Carma-CCS.xlsx'",
     "output_type": "error",
     "traceback": [
      "\u001b[0;31m---------------------------------------------------------------------------\u001b[0m",
      "\u001b[0;31mFileNotFoundError\u001b[0m                         Traceback (most recent call last)",
      "Cell \u001b[0;32mIn[6], line 7\u001b[0m\n\u001b[1;32m      1\u001b[0m \u001b[38;5;28;01mimport\u001b[39;00m \u001b[38;5;21;01mopenpyxl\u001b[39;00m\n\u001b[1;32m      3\u001b[0m \u001b[38;5;28;01mfor\u001b[39;00m orig, copy \u001b[38;5;129;01min\u001b[39;00m {\n\u001b[1;32m      4\u001b[0m     \u001b[38;5;124m\"\u001b[39m\u001b[38;5;124mdata/5907amb2z_SI_lci-Carma-CCS.xlsx\u001b[39m\u001b[38;5;124m\"\u001b[39m: \u001b[38;5;124m\"\u001b[39m\u001b[38;5;124mdata/lci-Carma-CCS.xlsx\u001b[39m\u001b[38;5;124m\"\u001b[39m,\n\u001b[1;32m      5\u001b[0m     \u001b[38;5;124m\"\u001b[39m\u001b[38;5;124mdata/5907amb2z_SI_lci-CSP.xlsx\u001b[39m\u001b[38;5;124m\"\u001b[39m: \u001b[38;5;124m\"\u001b[39m\u001b[38;5;124mdata/lci-CSP.xlsx\u001b[39m\u001b[38;5;124m\"\u001b[39m,\n\u001b[1;32m      6\u001b[0m }\u001b[38;5;241m.\u001b[39mitems():\n\u001b[0;32m----> 7\u001b[0m     book \u001b[38;5;241m=\u001b[39m \u001b[43mopenpyxl\u001b[49m\u001b[38;5;241;43m.\u001b[39;49m\u001b[43mload_workbook\u001b[49m\u001b[43m(\u001b[49m\u001b[43morig\u001b[49m\u001b[43m)\u001b[49m\n\u001b[1;32m      8\u001b[0m     book\u001b[38;5;241m.\u001b[39mremove(book[\u001b[38;5;124m\"\u001b[39m\u001b[38;5;124mSummary\u001b[39m\u001b[38;5;124m\"\u001b[39m])\n\u001b[1;32m      9\u001b[0m     book\u001b[38;5;241m.\u001b[39msave(copy)\n",
      "File \u001b[0;32m~/PycharmProjects/SparkBox/venv/lib/python3.11/site-packages/openpyxl/reader/excel.py:344\u001b[0m, in \u001b[0;36mload_workbook\u001b[0;34m(filename, read_only, keep_vba, data_only, keep_links, rich_text)\u001b[0m\n\u001b[1;32m    314\u001b[0m \u001b[38;5;28;01mdef\u001b[39;00m \u001b[38;5;21mload_workbook\u001b[39m(filename, read_only\u001b[38;5;241m=\u001b[39m\u001b[38;5;28;01mFalse\u001b[39;00m, keep_vba\u001b[38;5;241m=\u001b[39mKEEP_VBA,\n\u001b[1;32m    315\u001b[0m                   data_only\u001b[38;5;241m=\u001b[39m\u001b[38;5;28;01mFalse\u001b[39;00m, keep_links\u001b[38;5;241m=\u001b[39m\u001b[38;5;28;01mTrue\u001b[39;00m, rich_text\u001b[38;5;241m=\u001b[39m\u001b[38;5;28;01mFalse\u001b[39;00m):\n\u001b[1;32m    316\u001b[0m \u001b[38;5;250m    \u001b[39m\u001b[38;5;124;03m\"\"\"Open the given filename and return the workbook\u001b[39;00m\n\u001b[1;32m    317\u001b[0m \n\u001b[1;32m    318\u001b[0m \u001b[38;5;124;03m    :param filename: the path to open or a file-like object\u001b[39;00m\n\u001b[0;32m   (...)\u001b[0m\n\u001b[1;32m    342\u001b[0m \n\u001b[1;32m    343\u001b[0m \u001b[38;5;124;03m    \"\"\"\u001b[39;00m\n\u001b[0;32m--> 344\u001b[0m     reader \u001b[38;5;241m=\u001b[39m \u001b[43mExcelReader\u001b[49m\u001b[43m(\u001b[49m\u001b[43mfilename\u001b[49m\u001b[43m,\u001b[49m\u001b[43m \u001b[49m\u001b[43mread_only\u001b[49m\u001b[43m,\u001b[49m\u001b[43m \u001b[49m\u001b[43mkeep_vba\u001b[49m\u001b[43m,\u001b[49m\n\u001b[1;32m    345\u001b[0m \u001b[43m                         \u001b[49m\u001b[43mdata_only\u001b[49m\u001b[43m,\u001b[49m\u001b[43m \u001b[49m\u001b[43mkeep_links\u001b[49m\u001b[43m,\u001b[49m\u001b[43m \u001b[49m\u001b[43mrich_text\u001b[49m\u001b[43m)\u001b[49m\n\u001b[1;32m    346\u001b[0m     reader\u001b[38;5;241m.\u001b[39mread()\n\u001b[1;32m    347\u001b[0m     \u001b[38;5;28;01mreturn\u001b[39;00m reader\u001b[38;5;241m.\u001b[39mwb\n",
      "File \u001b[0;32m~/PycharmProjects/SparkBox/venv/lib/python3.11/site-packages/openpyxl/reader/excel.py:123\u001b[0m, in \u001b[0;36mExcelReader.__init__\u001b[0;34m(self, fn, read_only, keep_vba, data_only, keep_links, rich_text)\u001b[0m\n\u001b[1;32m    121\u001b[0m \u001b[38;5;28;01mdef\u001b[39;00m \u001b[38;5;21m__init__\u001b[39m(\u001b[38;5;28mself\u001b[39m, fn, read_only\u001b[38;5;241m=\u001b[39m\u001b[38;5;28;01mFalse\u001b[39;00m, keep_vba\u001b[38;5;241m=\u001b[39mKEEP_VBA,\n\u001b[1;32m    122\u001b[0m              data_only\u001b[38;5;241m=\u001b[39m\u001b[38;5;28;01mFalse\u001b[39;00m, keep_links\u001b[38;5;241m=\u001b[39m\u001b[38;5;28;01mTrue\u001b[39;00m, rich_text\u001b[38;5;241m=\u001b[39m\u001b[38;5;28;01mFalse\u001b[39;00m):\n\u001b[0;32m--> 123\u001b[0m     \u001b[38;5;28mself\u001b[39m\u001b[38;5;241m.\u001b[39marchive \u001b[38;5;241m=\u001b[39m \u001b[43m_validate_archive\u001b[49m\u001b[43m(\u001b[49m\u001b[43mfn\u001b[49m\u001b[43m)\u001b[49m\n\u001b[1;32m    124\u001b[0m     \u001b[38;5;28mself\u001b[39m\u001b[38;5;241m.\u001b[39mvalid_files \u001b[38;5;241m=\u001b[39m \u001b[38;5;28mself\u001b[39m\u001b[38;5;241m.\u001b[39marchive\u001b[38;5;241m.\u001b[39mnamelist()\n\u001b[1;32m    125\u001b[0m     \u001b[38;5;28mself\u001b[39m\u001b[38;5;241m.\u001b[39mread_only \u001b[38;5;241m=\u001b[39m read_only\n",
      "File \u001b[0;32m~/PycharmProjects/SparkBox/venv/lib/python3.11/site-packages/openpyxl/reader/excel.py:95\u001b[0m, in \u001b[0;36m_validate_archive\u001b[0;34m(filename)\u001b[0m\n\u001b[1;32m     88\u001b[0m             msg \u001b[38;5;241m=\u001b[39m (\u001b[38;5;124m'\u001b[39m\u001b[38;5;124mopenpyxl does not support \u001b[39m\u001b[38;5;132;01m%s\u001b[39;00m\u001b[38;5;124m file format, \u001b[39m\u001b[38;5;124m'\u001b[39m\n\u001b[1;32m     89\u001b[0m                    \u001b[38;5;124m'\u001b[39m\u001b[38;5;124mplease check you can open \u001b[39m\u001b[38;5;124m'\u001b[39m\n\u001b[1;32m     90\u001b[0m                    \u001b[38;5;124m'\u001b[39m\u001b[38;5;124mit with Excel first. \u001b[39m\u001b[38;5;124m'\u001b[39m\n\u001b[1;32m     91\u001b[0m                    \u001b[38;5;124m'\u001b[39m\u001b[38;5;124mSupported formats are: \u001b[39m\u001b[38;5;132;01m%s\u001b[39;00m\u001b[38;5;124m'\u001b[39m) \u001b[38;5;241m%\u001b[39m (file_format,\n\u001b[1;32m     92\u001b[0m                                                    \u001b[38;5;124m'\u001b[39m\u001b[38;5;124m,\u001b[39m\u001b[38;5;124m'\u001b[39m\u001b[38;5;241m.\u001b[39mjoin(SUPPORTED_FORMATS))\n\u001b[1;32m     93\u001b[0m         \u001b[38;5;28;01mraise\u001b[39;00m InvalidFileException(msg)\n\u001b[0;32m---> 95\u001b[0m archive \u001b[38;5;241m=\u001b[39m \u001b[43mZipFile\u001b[49m\u001b[43m(\u001b[49m\u001b[43mfilename\u001b[49m\u001b[43m,\u001b[49m\u001b[43m \u001b[49m\u001b[38;5;124;43m'\u001b[39;49m\u001b[38;5;124;43mr\u001b[39;49m\u001b[38;5;124;43m'\u001b[39;49m\u001b[43m)\u001b[49m\n\u001b[1;32m     96\u001b[0m \u001b[38;5;28;01mreturn\u001b[39;00m archive\n",
      "File \u001b[0;32m/usr/lib/python3.11/zipfile.py:1284\u001b[0m, in \u001b[0;36mZipFile.__init__\u001b[0;34m(self, file, mode, compression, allowZip64, compresslevel, strict_timestamps, metadata_encoding)\u001b[0m\n\u001b[1;32m   1282\u001b[0m \u001b[38;5;28;01mwhile\u001b[39;00m \u001b[38;5;28;01mTrue\u001b[39;00m:\n\u001b[1;32m   1283\u001b[0m     \u001b[38;5;28;01mtry\u001b[39;00m:\n\u001b[0;32m-> 1284\u001b[0m         \u001b[38;5;28mself\u001b[39m\u001b[38;5;241m.\u001b[39mfp \u001b[38;5;241m=\u001b[39m io\u001b[38;5;241m.\u001b[39mopen(file, filemode)\n\u001b[1;32m   1285\u001b[0m     \u001b[38;5;28;01mexcept\u001b[39;00m \u001b[38;5;167;01mOSError\u001b[39;00m:\n\u001b[1;32m   1286\u001b[0m         \u001b[38;5;28;01mif\u001b[39;00m filemode \u001b[38;5;129;01min\u001b[39;00m modeDict:\n",
      "\u001b[0;31mFileNotFoundError\u001b[0m: [Errno 2] No such file or directory: 'data/5907amb2z_SI_lci-Carma-CCS.xlsx'"
     ]
    }
   ],
   "source": [
    "import openpyxl\n",
    "\n",
    "for orig, copy in {\n",
    "    \"data/5907amb2z_SI_lci-Carma-CCS.xlsx\": \"data/lci-Carma-CCS.xlsx\",\n",
    "    \"data/5907amb2z_SI_lci-CSP.xlsx\": \"data/lci-CSP.xlsx\",\n",
    "}.items():\n",
    "    book = openpyxl.load_workbook(orig)\n",
    "    book.remove(book[\"Summary\"])\n",
    "    book.save(copy)"
   ]
  }
 ],
 "metadata": {
  "kernelspec": {
   "display_name": "Python 3 (ipykernel)",
   "language": "python",
   "name": "python3"
  },
  "language_info": {
   "codemirror_mode": {
    "name": "ipython",
    "version": 3
   },
   "file_extension": ".py",
   "mimetype": "text/x-python",
   "name": "python",
   "nbconvert_exporter": "python",
   "pygments_lexer": "ipython3",
   "version": "3.11.6"
  }
 },
 "nbformat": 4,
 "nbformat_minor": 5
}
